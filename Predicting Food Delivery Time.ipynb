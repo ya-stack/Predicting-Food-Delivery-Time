{
 "cells": [
  {
   "cell_type": "markdown",
   "metadata": {},
   "source": [
    "## Predicting Food Delivery Time"
   ]
  },
  {
   "cell_type": "markdown",
   "metadata": {},
   "source": [
    "PROBLEM STATEMENT:"
   ]
  },
  {
   "cell_type": "markdown",
   "metadata": {},
   "source": [
    "* Goal is to predict the online order delivery time based on the given factors."
   ]
  },
  {
   "cell_type": "markdown",
   "metadata": {},
   "source": [
    "FEATURES:\n",
    "\n",
    "* Restaurant: A unique ID that represents a restaurant.\n",
    "* Location: The location of the restaurant.\n",
    "* Cuisines: The cuisines offered by the restaurant.\n",
    "* Average_Cost: The average cost for one person/order.\n",
    "* Minimum_Order: The minimum order amount.\n",
    "* Rating: Customer rating for the restaurant.\n",
    "* Votes: The total number of customer votes for the restaurant.\n",
    "* Reviews: The number of customer reviews for the restaurant.\n",
    "* Delivery_Time: The order delivery time of the restaurant. (Target Classes) "
   ]
  },
  {
   "cell_type": "markdown",
   "metadata": {},
   "source": [
    "EVALUATION METRIC USED:\n",
    "\n",
    "The final score will be calculated based on F1 micro due to the high imbalance in the dataset."
   ]
  },
  {
   "cell_type": "code",
   "execution_count": 1,
   "metadata": {},
   "outputs": [],
   "source": [
    "#Importing libraries\n",
    "import pandas as pd\n",
    "import numpy as np\n",
    "import matplotlib.pyplot as plt\n",
    "import seaborn as sns\n",
    "from sklearn.preprocessing import OneHotEncoder,StandardScaler\n",
    "from sklearn.metrics import f1_score,accuracy_score,confusion_matrix\n",
    "from sklearn.ensemble import RandomForestClassifier,AdaBoostClassifier\n",
    "from sklearn import model_selection\n",
    "from sklearn.feature_extraction.text import CountVectorizer\n",
    "import warnings\n",
    "warnings.filterwarnings('ignore')"
   ]
  },
  {
   "cell_type": "code",
   "execution_count": 2,
   "metadata": {},
   "outputs": [],
   "source": [
    "#Loading train and test datasets\n",
    "train = pd.read_excel('Data_Train.xlsx')\n",
    "test = pd.read_excel('Data_Test.xlsx')\n",
    "#Concatenating train and test datasets\n",
    "data = train.append(test, ignore_index=True,sort=False)"
   ]
  },
  {
   "cell_type": "code",
   "execution_count": 3,
   "metadata": {},
   "outputs": [
    {
     "data": {
      "text/html": [
       "<div>\n",
       "<style scoped>\n",
       "    .dataframe tbody tr th:only-of-type {\n",
       "        vertical-align: middle;\n",
       "    }\n",
       "\n",
       "    .dataframe tbody tr th {\n",
       "        vertical-align: top;\n",
       "    }\n",
       "\n",
       "    .dataframe thead th {\n",
       "        text-align: right;\n",
       "    }\n",
       "</style>\n",
       "<table border=\"1\" class=\"dataframe\">\n",
       "  <thead>\n",
       "    <tr style=\"text-align: right;\">\n",
       "      <th></th>\n",
       "      <th>Restaurant</th>\n",
       "      <th>Location</th>\n",
       "      <th>Cuisines</th>\n",
       "      <th>Average_Cost</th>\n",
       "      <th>Minimum_Order</th>\n",
       "      <th>Rating</th>\n",
       "      <th>Votes</th>\n",
       "      <th>Reviews</th>\n",
       "      <th>Delivery_Time</th>\n",
       "    </tr>\n",
       "  </thead>\n",
       "  <tbody>\n",
       "    <tr>\n",
       "      <td>0</td>\n",
       "      <td>ID_6321</td>\n",
       "      <td>FTI College, Law College Road, Pune</td>\n",
       "      <td>Fast Food, Rolls, Burger, Salad, Wraps</td>\n",
       "      <td>₹200</td>\n",
       "      <td>₹50</td>\n",
       "      <td>3.5</td>\n",
       "      <td>12</td>\n",
       "      <td>4</td>\n",
       "      <td>30 minutes</td>\n",
       "    </tr>\n",
       "    <tr>\n",
       "      <td>1</td>\n",
       "      <td>ID_2882</td>\n",
       "      <td>Sector 3, Marathalli</td>\n",
       "      <td>Ice Cream, Desserts</td>\n",
       "      <td>₹100</td>\n",
       "      <td>₹50</td>\n",
       "      <td>3.5</td>\n",
       "      <td>11</td>\n",
       "      <td>4</td>\n",
       "      <td>30 minutes</td>\n",
       "    </tr>\n",
       "    <tr>\n",
       "      <td>2</td>\n",
       "      <td>ID_1595</td>\n",
       "      <td>Mumbai Central</td>\n",
       "      <td>Italian, Street Food, Fast Food</td>\n",
       "      <td>₹150</td>\n",
       "      <td>₹50</td>\n",
       "      <td>3.6</td>\n",
       "      <td>99</td>\n",
       "      <td>30</td>\n",
       "      <td>65 minutes</td>\n",
       "    </tr>\n",
       "    <tr>\n",
       "      <td>3</td>\n",
       "      <td>ID_5929</td>\n",
       "      <td>Sector 1, Noida</td>\n",
       "      <td>Mughlai, North Indian, Chinese</td>\n",
       "      <td>₹250</td>\n",
       "      <td>₹99</td>\n",
       "      <td>3.7</td>\n",
       "      <td>176</td>\n",
       "      <td>95</td>\n",
       "      <td>30 minutes</td>\n",
       "    </tr>\n",
       "    <tr>\n",
       "      <td>4</td>\n",
       "      <td>ID_6123</td>\n",
       "      <td>Rmz Centennial, I Gate, Whitefield</td>\n",
       "      <td>Cafe, Beverages</td>\n",
       "      <td>₹200</td>\n",
       "      <td>₹99</td>\n",
       "      <td>3.2</td>\n",
       "      <td>521</td>\n",
       "      <td>235</td>\n",
       "      <td>65 minutes</td>\n",
       "    </tr>\n",
       "  </tbody>\n",
       "</table>\n",
       "</div>"
      ],
      "text/plain": [
       "  Restaurant                             Location  \\\n",
       "0    ID_6321  FTI College, Law College Road, Pune   \n",
       "1    ID_2882                 Sector 3, Marathalli   \n",
       "2    ID_1595                       Mumbai Central   \n",
       "3    ID_5929                      Sector 1, Noida   \n",
       "4    ID_6123   Rmz Centennial, I Gate, Whitefield   \n",
       "\n",
       "                                 Cuisines Average_Cost Minimum_Order Rating  \\\n",
       "0  Fast Food, Rolls, Burger, Salad, Wraps         ₹200           ₹50    3.5   \n",
       "1                     Ice Cream, Desserts         ₹100           ₹50    3.5   \n",
       "2         Italian, Street Food, Fast Food         ₹150           ₹50    3.6   \n",
       "3          Mughlai, North Indian, Chinese         ₹250           ₹99    3.7   \n",
       "4                         Cafe, Beverages         ₹200           ₹99    3.2   \n",
       "\n",
       "  Votes Reviews Delivery_Time  \n",
       "0    12       4    30 minutes  \n",
       "1    11       4    30 minutes  \n",
       "2    99      30    65 minutes  \n",
       "3   176      95    30 minutes  \n",
       "4   521     235    65 minutes  "
      ]
     },
     "execution_count": 3,
     "metadata": {},
     "output_type": "execute_result"
    }
   ],
   "source": [
    "data.head()"
   ]
  },
  {
   "cell_type": "code",
   "execution_count": 4,
   "metadata": {},
   "outputs": [
    {
     "name": "stdout",
     "output_type": "stream",
     "text": [
      "Number of rows in training dataset: (11094, 9)\n",
      "Number of rows in testing dataset: (2774, 8)\n",
      "Number of rows in whole dataset: (13868, 9)\n"
     ]
    }
   ],
   "source": [
    "#Shape of train and test dataset\n",
    "print(\"Number of rows in training dataset:\",train.shape)\n",
    "print(\"Number of rows in testing dataset:\",test.shape)\n",
    "print(\"Number of rows in whole dataset:\",data.shape)"
   ]
  },
  {
   "cell_type": "code",
   "execution_count": 5,
   "metadata": {},
   "outputs": [
    {
     "data": {
      "text/plain": [
       "Index(['Restaurant', 'Location', 'Cuisines', 'Average_Cost', 'Minimum_Order',\n",
       "       'Rating', 'Votes', 'Reviews', 'Delivery_Time'],\n",
       "      dtype='object')"
      ]
     },
     "execution_count": 5,
     "metadata": {},
     "output_type": "execute_result"
    }
   ],
   "source": [
    "#Columns of train dataset\n",
    "train.columns"
   ]
  },
  {
   "cell_type": "code",
   "execution_count": 6,
   "metadata": {},
   "outputs": [
    {
     "data": {
      "text/plain": [
       "Restaurant          0\n",
       "Location            0\n",
       "Cuisines            0\n",
       "Average_Cost        0\n",
       "Minimum_Order       0\n",
       "Rating              0\n",
       "Votes               0\n",
       "Reviews             0\n",
       "Delivery_Time    2774\n",
       "dtype: int64"
      ]
     },
     "execution_count": 6,
     "metadata": {},
     "output_type": "execute_result"
    }
   ],
   "source": [
    "#Check for null values in dataset\n",
    "data.isnull().sum()"
   ]
  },
  {
   "cell_type": "code",
   "execution_count": 7,
   "metadata": {},
   "outputs": [
    {
     "data": {
      "text/html": [
       "<div>\n",
       "<style scoped>\n",
       "    .dataframe tbody tr th:only-of-type {\n",
       "        vertical-align: middle;\n",
       "    }\n",
       "\n",
       "    .dataframe tbody tr th {\n",
       "        vertical-align: top;\n",
       "    }\n",
       "\n",
       "    .dataframe thead th {\n",
       "        text-align: right;\n",
       "    }\n",
       "</style>\n",
       "<table border=\"1\" class=\"dataframe\">\n",
       "  <thead>\n",
       "    <tr style=\"text-align: right;\">\n",
       "      <th></th>\n",
       "      <th>Restaurant</th>\n",
       "      <th>Location</th>\n",
       "      <th>Cuisines</th>\n",
       "      <th>Average_Cost</th>\n",
       "      <th>Minimum_Order</th>\n",
       "      <th>Rating</th>\n",
       "      <th>Votes</th>\n",
       "      <th>Reviews</th>\n",
       "      <th>Delivery_Time</th>\n",
       "    </tr>\n",
       "  </thead>\n",
       "  <tbody>\n",
       "    <tr>\n",
       "      <td>0</td>\n",
       "      <td>ID_6321</td>\n",
       "      <td>FTI College, Law College Road, Pune</td>\n",
       "      <td>Fast Food, Rolls, Burger, Salad, Wraps</td>\n",
       "      <td>₹200</td>\n",
       "      <td>₹50</td>\n",
       "      <td>3.5</td>\n",
       "      <td>12</td>\n",
       "      <td>4</td>\n",
       "      <td>30 minutes</td>\n",
       "    </tr>\n",
       "    <tr>\n",
       "      <td>1</td>\n",
       "      <td>ID_2882</td>\n",
       "      <td>Sector 3, Marathalli</td>\n",
       "      <td>Ice Cream, Desserts</td>\n",
       "      <td>₹100</td>\n",
       "      <td>₹50</td>\n",
       "      <td>3.5</td>\n",
       "      <td>11</td>\n",
       "      <td>4</td>\n",
       "      <td>30 minutes</td>\n",
       "    </tr>\n",
       "    <tr>\n",
       "      <td>2</td>\n",
       "      <td>ID_1595</td>\n",
       "      <td>Mumbai Central</td>\n",
       "      <td>Italian, Street Food, Fast Food</td>\n",
       "      <td>₹150</td>\n",
       "      <td>₹50</td>\n",
       "      <td>3.6</td>\n",
       "      <td>99</td>\n",
       "      <td>30</td>\n",
       "      <td>65 minutes</td>\n",
       "    </tr>\n",
       "    <tr>\n",
       "      <td>3</td>\n",
       "      <td>ID_5929</td>\n",
       "      <td>Sector 1, Noida</td>\n",
       "      <td>Mughlai, North Indian, Chinese</td>\n",
       "      <td>₹250</td>\n",
       "      <td>₹99</td>\n",
       "      <td>3.7</td>\n",
       "      <td>176</td>\n",
       "      <td>95</td>\n",
       "      <td>30 minutes</td>\n",
       "    </tr>\n",
       "    <tr>\n",
       "      <td>4</td>\n",
       "      <td>ID_6123</td>\n",
       "      <td>Rmz Centennial, I Gate, Whitefield</td>\n",
       "      <td>Cafe, Beverages</td>\n",
       "      <td>₹200</td>\n",
       "      <td>₹99</td>\n",
       "      <td>3.2</td>\n",
       "      <td>521</td>\n",
       "      <td>235</td>\n",
       "      <td>65 minutes</td>\n",
       "    </tr>\n",
       "    <tr>\n",
       "      <td>...</td>\n",
       "      <td>...</td>\n",
       "      <td>...</td>\n",
       "      <td>...</td>\n",
       "      <td>...</td>\n",
       "      <td>...</td>\n",
       "      <td>...</td>\n",
       "      <td>...</td>\n",
       "      <td>...</td>\n",
       "      <td>...</td>\n",
       "    </tr>\n",
       "    <tr>\n",
       "      <td>13863</td>\n",
       "      <td>ID_6342</td>\n",
       "      <td>Delhi University-GTB Nagar</td>\n",
       "      <td>Fast Food, Chinese</td>\n",
       "      <td>₹100</td>\n",
       "      <td>₹50</td>\n",
       "      <td>NEW</td>\n",
       "      <td>-</td>\n",
       "      <td>-</td>\n",
       "      <td>NaN</td>\n",
       "    </tr>\n",
       "    <tr>\n",
       "      <td>13864</td>\n",
       "      <td>ID_8495</td>\n",
       "      <td>Mico Layout, Stage 2, BTM Layout,Bangalore</td>\n",
       "      <td>Continental, North Indian, Desserts, Beverages</td>\n",
       "      <td>₹250</td>\n",
       "      <td>₹50</td>\n",
       "      <td>3.1</td>\n",
       "      <td>5</td>\n",
       "      <td>1</td>\n",
       "      <td>NaN</td>\n",
       "    </tr>\n",
       "    <tr>\n",
       "      <td>13865</td>\n",
       "      <td>ID_7122</td>\n",
       "      <td>Noorkhan Bazaar, Malakpet, Hyderabad</td>\n",
       "      <td>Andhra, South Indian</td>\n",
       "      <td>₹150</td>\n",
       "      <td>₹50</td>\n",
       "      <td>3.0</td>\n",
       "      <td>16</td>\n",
       "      <td>1</td>\n",
       "      <td>NaN</td>\n",
       "    </tr>\n",
       "    <tr>\n",
       "      <td>13866</td>\n",
       "      <td>ID_2475</td>\n",
       "      <td>D-Block, Sector 63, Noida</td>\n",
       "      <td>Bakery</td>\n",
       "      <td>₹100</td>\n",
       "      <td>₹99</td>\n",
       "      <td>3.0</td>\n",
       "      <td>7</td>\n",
       "      <td>2</td>\n",
       "      <td>NaN</td>\n",
       "    </tr>\n",
       "    <tr>\n",
       "      <td>13867</td>\n",
       "      <td>ID_1595</td>\n",
       "      <td>Dockyard Road, Mumbai CST Area</td>\n",
       "      <td>Italian, Street Food, Fast Food</td>\n",
       "      <td>₹150</td>\n",
       "      <td>₹50</td>\n",
       "      <td>3.6</td>\n",
       "      <td>99</td>\n",
       "      <td>30</td>\n",
       "      <td>NaN</td>\n",
       "    </tr>\n",
       "  </tbody>\n",
       "</table>\n",
       "<p>13868 rows × 9 columns</p>\n",
       "</div>"
      ],
      "text/plain": [
       "      Restaurant                                    Location  \\\n",
       "0        ID_6321         FTI College, Law College Road, Pune   \n",
       "1        ID_2882                        Sector 3, Marathalli   \n",
       "2        ID_1595                              Mumbai Central   \n",
       "3        ID_5929                             Sector 1, Noida   \n",
       "4        ID_6123          Rmz Centennial, I Gate, Whitefield   \n",
       "...          ...                                         ...   \n",
       "13863    ID_6342                  Delhi University-GTB Nagar   \n",
       "13864    ID_8495  Mico Layout, Stage 2, BTM Layout,Bangalore   \n",
       "13865    ID_7122        Noorkhan Bazaar, Malakpet, Hyderabad   \n",
       "13866    ID_2475                   D-Block, Sector 63, Noida   \n",
       "13867    ID_1595              Dockyard Road, Mumbai CST Area   \n",
       "\n",
       "                                             Cuisines Average_Cost  \\\n",
       "0              Fast Food, Rolls, Burger, Salad, Wraps         ₹200   \n",
       "1                                 Ice Cream, Desserts         ₹100   \n",
       "2                     Italian, Street Food, Fast Food         ₹150   \n",
       "3                      Mughlai, North Indian, Chinese         ₹250   \n",
       "4                                     Cafe, Beverages         ₹200   \n",
       "...                                               ...          ...   \n",
       "13863                              Fast Food, Chinese         ₹100   \n",
       "13864  Continental, North Indian, Desserts, Beverages         ₹250   \n",
       "13865                            Andhra, South Indian         ₹150   \n",
       "13866                                          Bakery         ₹100   \n",
       "13867                 Italian, Street Food, Fast Food         ₹150   \n",
       "\n",
       "      Minimum_Order Rating Votes Reviews Delivery_Time  \n",
       "0               ₹50    3.5    12       4    30 minutes  \n",
       "1               ₹50    3.5    11       4    30 minutes  \n",
       "2               ₹50    3.6    99      30    65 minutes  \n",
       "3               ₹99    3.7   176      95    30 minutes  \n",
       "4               ₹99    3.2   521     235    65 minutes  \n",
       "...             ...    ...   ...     ...           ...  \n",
       "13863           ₹50    NEW     -       -           NaN  \n",
       "13864           ₹50    3.1     5       1           NaN  \n",
       "13865           ₹50    3.0    16       1           NaN  \n",
       "13866           ₹99    3.0     7       2           NaN  \n",
       "13867           ₹50    3.6    99      30           NaN  \n",
       "\n",
       "[13868 rows x 9 columns]"
      ]
     },
     "execution_count": 7,
     "metadata": {},
     "output_type": "execute_result"
    }
   ],
   "source": [
    "data"
   ]
  },
  {
   "cell_type": "code",
   "execution_count": 8,
   "metadata": {},
   "outputs": [
    {
     "data": {
      "text/plain": [
       "Restaurant       8661\n",
       "Location           35\n",
       "Cuisines         2392\n",
       "Average_Cost       26\n",
       "Minimum_Order      20\n",
       "Rating             33\n",
       "Votes            1181\n",
       "Reviews           811\n",
       "Delivery_Time       7\n",
       "dtype: int64"
      ]
     },
     "execution_count": 8,
     "metadata": {},
     "output_type": "execute_result"
    }
   ],
   "source": [
    "#Check for unique values\n",
    "data.nunique()"
   ]
  },
  {
   "cell_type": "code",
   "execution_count": 9,
   "metadata": {},
   "outputs": [
    {
     "name": "stdout",
     "output_type": "stream",
     "text": [
      "<class 'pandas.core.frame.DataFrame'>\n",
      "RangeIndex: 13868 entries, 0 to 13867\n",
      "Data columns (total 9 columns):\n",
      "Restaurant       13868 non-null object\n",
      "Location         13868 non-null object\n",
      "Cuisines         13868 non-null object\n",
      "Average_Cost     13868 non-null object\n",
      "Minimum_Order    13868 non-null object\n",
      "Rating           13868 non-null object\n",
      "Votes            13868 non-null object\n",
      "Reviews          13868 non-null object\n",
      "Delivery_Time    11094 non-null object\n",
      "dtypes: object(9)\n",
      "memory usage: 975.2+ KB\n"
     ]
    }
   ],
   "source": [
    "# Check for information about dataset including the index dtype and column dtypes, non-null values and memory usage\n",
    "data.info()"
   ]
  },
  {
   "cell_type": "code",
   "execution_count": 10,
   "metadata": {},
   "outputs": [
    {
     "data": {
      "text/plain": [
       "30 minutes     7406\n",
       "45 minutes     2665\n",
       "65 minutes      923\n",
       "120 minutes      62\n",
       "20 minutes       20\n",
       "80 minutes       14\n",
       "10 minutes        4\n",
       "Name: Delivery_Time, dtype: int64"
      ]
     },
     "execution_count": 10,
     "metadata": {},
     "output_type": "execute_result"
    }
   ],
   "source": [
    "#Check for total number of values in Delivery time(Target variable having 7 classes)\n",
    "data['Delivery_Time'].value_counts()"
   ]
  },
  {
   "cell_type": "markdown",
   "metadata": {},
   "source": [
    "## Data preprocessing "
   ]
  },
  {
   "cell_type": "code",
   "execution_count": 11,
   "metadata": {},
   "outputs": [
    {
     "data": {
      "text/plain": [
       "Counter({'fastfood': 3862,\n",
       "         'rolls': 620,\n",
       "         'burger': 414,\n",
       "         'salad': 284,\n",
       "         'wraps': 97,\n",
       "         'icecream': 480,\n",
       "         'desserts': 1548,\n",
       "         'italian': 751,\n",
       "         'streetfood': 935,\n",
       "         'mughlai': 1098,\n",
       "         'northindian': 5999,\n",
       "         'chinese': 4339,\n",
       "         'cafe': 592,\n",
       "         'beverages': 1789,\n",
       "         'southindian': 1507,\n",
       "         'thai': 205,\n",
       "         'asian': 259,\n",
       "         'mithai': 386,\n",
       "         'momos': 397,\n",
       "         'indonesian': 3,\n",
       "         'biryani': 1161,\n",
       "         'kerala': 73,\n",
       "         'bihari': 14,\n",
       "         'mexican': 143,\n",
       "         'japanese': 72,\n",
       "         'bakery': 864,\n",
       "         'burmese': 13,\n",
       "         'bubbletea': 6,\n",
       "         'tea': 87,\n",
       "         'pizza': 611,\n",
       "         'lucknowi': 15,\n",
       "         'mangalorean': 27,\n",
       "         'european': 89,\n",
       "         'continental': 694,\n",
       "         'sandwich': 339,\n",
       "         'healthyfood': 352,\n",
       "         'bengali': 132,\n",
       "         'american': 163,\n",
       "         'mishti': 82,\n",
       "         'hyderabadi': 85,\n",
       "         'andhra': 111,\n",
       "         'assamese': 4,\n",
       "         'maharashtrian': 135,\n",
       "         'german': 9,\n",
       "         'arabian': 82,\n",
       "         'fingerfood': 67,\n",
       "         'kebab': 214,\n",
       "         'chettinad': 14,\n",
       "         'seafood': 246,\n",
       "         'juices': 198,\n",
       "         'parsi': 15,\n",
       "         'sushi': 50,\n",
       "         'odia': 21,\n",
       "         'tamil': 3,\n",
       "         'cantonese': 2,\n",
       "         'northeastern': 29,\n",
       "         'tibetan': 47,\n",
       "         'lebanese': 120,\n",
       "         'spanish': 4,\n",
       "         'barfood': 25,\n",
       "         'konkan': 6,\n",
       "         'paan': 34,\n",
       "         'steak': 22,\n",
       "         'mediterranean': 32,\n",
       "         'bohri': 1,\n",
       "         'afghan': 24,\n",
       "         'goan': 11,\n",
       "         'gujarati': 12,\n",
       "         'bbq': 61,\n",
       "         'rawmeats': 16,\n",
       "         'malaysian': 16,\n",
       "         'vietnamese': 18,\n",
       "         'srilankan': 1,\n",
       "         'rajasthani': 35,\n",
       "         'poké': 10,\n",
       "         'roastchicken': 5,\n",
       "         'coffee': 53,\n",
       "         'brazilian': 6,\n",
       "         'belgian': 5,\n",
       "         'naga': 8,\n",
       "         'korean': 20,\n",
       "         'modernindian': 25,\n",
       "         'awadhi': 15,\n",
       "         'kashmiri': 11,\n",
       "         'french': 8,\n",
       "         'portuguese': 3,\n",
       "         'charcoalchicken': 3,\n",
       "         'frozenyogurt': 5,\n",
       "         'bangladeshi': 5,\n",
       "         'malwani': 20,\n",
       "         'iranian': 10,\n",
       "         'nepalese': 3,\n",
       "         'indian': 4,\n",
       "         'tex-mex': 4,\n",
       "         'hotdogs': 4,\n",
       "         'southamerican': 3,\n",
       "         'middleeastern': 6,\n",
       "         'african': 2,\n",
       "         'turkish': 9,\n",
       "         'israeli': 2,\n",
       "         'greek': 1})"
      ]
     },
     "execution_count": 11,
     "metadata": {},
     "output_type": "execute_result"
    }
   ],
   "source": [
    "data['Cuisines'] = data['Cuisines'].str.lower() \n",
    "data['Cuisines'] = data['Cuisines'].str.replace(' ','')\n",
    "Cuisines_list = data['Cuisines'].str.split(',')\n",
    "from collections import Counter\n",
    "Cuisines_counter = Counter(([a for b in Cuisines_list.tolist() for a in b]))\n",
    "Cuisines_counter"
   ]
  },
  {
   "cell_type": "code",
   "execution_count": 12,
   "metadata": {},
   "outputs": [],
   "source": [
    "#Grouped Cuisines into 16 subcategories:-\n",
    "# 1.Fastfood\n",
    "# 2.Desserts\n",
    "# 3.European\n",
    "# 4.American\n",
    "# 5.Middleeast\n",
    "# 6.Chinese\n",
    "# 7.Regional\n",
    "# 8.Seafood\n",
    "# 9.Asian\n",
    "# 10.Beverages\n",
    "# 11.Biryani\n",
    "# 12.Northindian\n",
    "# 13.SouthIndian\n",
    "# 14.Healthyfood\n",
    "# 15.mughlai\n",
    "# 16.continental"
   ]
  },
  {
   "cell_type": "code",
   "execution_count": 13,
   "metadata": {},
   "outputs": [],
   "source": [
    "ff_list=['rolls','burger','wraps','streetfood','momos','sandwich','fingerfood','barfood','rawmeats','hotdogs','cafe','pizza']\n",
    "for i in ff_list:\n",
    "    data['Cuisines']=data['Cuisines'].str.replace(i,'fastfood')\n",
    "\n",
    "    \n",
    "desserts_list=['icecream','mithai','bakery','bubbletea','mishti','paan','frozenyogurt']\n",
    "for i in desserts_list:\n",
    "    data['Cuisines']=data['Cuisines'].str.replace(i,'desserts')\n",
    "\n",
    "    \n",
    "european_list=['italian','german','spanish','steak','mediterranean','brazilian','belgian','french','portuguese','african','greek']\n",
    "for i in european_list:\n",
    "    data['Cuisines']=data['Cuisines'].str.replace(i,'european')\n",
    "\n",
    "    \n",
    "american_list=['mexican','bbq','roastchicken','charcoalchicken','tex-mex','southamerican']\n",
    "for i in american_list:\n",
    "    data['Cuisines']=data['Cuisines'].str.replace(i,'american')\n",
    "\n",
    "    \n",
    "middleeast_list=['arabian','kebab','lebanese','afghan','iranian','middleeastern','turkish','israeli']\n",
    "for i in middleeast_list:\n",
    "    data['Cuisines']=data['Cuisines'].str.replace(i,'middleeast')\n",
    "    \n",
    "\n",
    "data['Cuisines'] = data['Cuisines'].str.replace('chinese','chinese')\n",
    "\n",
    "\n",
    "regional_list=['kerala','bihari','Lucknowi','mangalorean','bengali','andhra','assamese','maharashtrian','chettinad','parsi','odia',\n",
    "         'tamil','northeastern','bohri','goan','gujarati','rajasthani','naga','awadhi','kashmiri','malwani']\n",
    "for i in regional_list:\n",
    "    data['Cuisines']=data['Cuisines'].str.replace(i,'regional')\n",
    "\n",
    "    \n",
    "seafood_list=['thai','konkan','srilankan','poké']\n",
    "for i in seafood_list:\n",
    "    data['Cuisines']=data['Cuisines'].str.replace(i,'seafood')\n",
    "    \n",
    "\n",
    "asian_list=['indonesian','japanese','burmese','sushi','cantonese','tibetan','malaysian','vietnamese','korean','nepalese',\n",
    "           'bangladeshi']\n",
    "for i in asian_list:\n",
    "    data['Cuisines']=data['Cuisines'].str.replace(i,'asian')\n",
    "\n",
    "\n",
    "beverages_list=['tea','juices','coffee']\n",
    "for i in beverages_list:\n",
    "    data['Cuisines']=data['Cuisines'].str.replace(i,'beverages')\n",
    "\n",
    "\n",
    "biryani_list=['hyderabadi','lucknowi']\n",
    "for i in biryani_list:\n",
    "    data['Cuisines']=data['Cuisines'].str.replace(i,'biryani')\n",
    "\n",
    "\n",
    "northindian_list=['indian','modernindian','modernnorthindian','northindian','northnorthindian']\n",
    "for i in northindian_list:\n",
    "    data['Cuisines']=data['Cuisines'].str.replace(i,'northindian')\n",
    "\n",
    "data['Cuisines'] = data['Cuisines'].str.replace('southnorthindian','southindian')\n",
    "\n",
    "data['Cuisines'] = data['Cuisines'].str.replace('salad','healthyfood')\n"
   ]
  },
  {
   "cell_type": "code",
   "execution_count": 14,
   "metadata": {},
   "outputs": [],
   "source": [
    "data['Cuisines'] = data['Cuisines'].str.lower()\n",
    "data['Cuisines'] = data['Cuisines'].str.replace(' ','')\n",
    "Cuisines_list1 = data['Cuisines'].str.split(',')"
   ]
  },
  {
   "cell_type": "code",
   "execution_count": 15,
   "metadata": {},
   "outputs": [
    {
     "data": {
      "text/plain": [
       "Counter({'fastfood': 7979,\n",
       "         'healthyfood': 636,\n",
       "         'desserts': 3405,\n",
       "         'european': 932,\n",
       "         'mughlai': 1098,\n",
       "         'northindian': 6028,\n",
       "         'chinese': 4339,\n",
       "         'beverages': 2127,\n",
       "         'southindian': 1507,\n",
       "         'seafood': 468,\n",
       "         'asian': 508,\n",
       "         'biryani': 1261,\n",
       "         'regional': 691,\n",
       "         'american': 382,\n",
       "         'continental': 694,\n",
       "         'middleeast': 467})"
      ]
     },
     "execution_count": 15,
     "metadata": {},
     "output_type": "execute_result"
    }
   ],
   "source": [
    "Cuisines_counter= Counter(([a for b in Cuisines_list1.tolist() for a in b]))\n",
    "Cuisines_counter"
   ]
  },
  {
   "cell_type": "code",
   "execution_count": 16,
   "metadata": {},
   "outputs": [],
   "source": [
    "#Removing  ID_ from restaurant and changing its dtype to int64"
   ]
  },
  {
   "cell_type": "code",
   "execution_count": 17,
   "metadata": {},
   "outputs": [],
   "source": [
    "data['Restaurant']=data['Restaurant'].str.replace('ID_','')\n",
    "data['Restaurant']=pd.to_numeric(data['Restaurant'])"
   ]
  },
  {
   "cell_type": "code",
   "execution_count": 18,
   "metadata": {},
   "outputs": [],
   "source": [
    "data['Delivery_Time'] = data['Delivery_Time'].str.replace(' minutes','')\n",
    "data['Delivery_Time']=pd.to_numeric(data['Delivery_Time'])"
   ]
  },
  {
   "cell_type": "code",
   "execution_count": 19,
   "metadata": {},
   "outputs": [],
   "source": [
    "#Splitting Location variable into locality and its respective city"
   ]
  },
  {
   "cell_type": "code",
   "execution_count": 20,
   "metadata": {},
   "outputs": [],
   "source": [
    "data['City']=data['Location'].str.rpartition(',')[2]\n",
    "data['Locality']=data['Location'].str.rpartition(',')[0]"
   ]
  },
  {
   "cell_type": "code",
   "execution_count": 21,
   "metadata": {},
   "outputs": [],
   "source": [
    "data['Locality'][data['City']=='Delhi University-GTB Nagar']='Delhi University-GTB Nagar'\n",
    "data['Locality'][data['City']=='Mumbai Central']='Mumbai Central'\n",
    "data['Locality'][data['City']=='Majestic']='Majestic'\n",
    "data['Locality'][data['City']=='Delhi Cantt.']='Delhi Cantt'\n",
    "data['Locality'][data['City']=='Pune University']='Pune University'\n",
    "data['Locality'] = data['Locality'].str.strip()\n",
    "data['Locality'] = data['Locality'].str.lower()"
   ]
  },
  {
   "cell_type": "code",
   "execution_count": 22,
   "metadata": {},
   "outputs": [
    {
     "data": {
      "text/plain": [
       " Noida                        2647\n",
       " Pune                         1719\n",
       "Bangalore                     1158\n",
       " Mumbai CST Area               825\n",
       "Delhi University-GTB Nagar     699\n",
       " Kolkata                       678\n",
       " Gurgoan                       611\n",
       " Timarpur                      602\n",
       " Whitefield                    585\n",
       "Mumbai Central                 578\n",
       " India Gate                    504\n",
       " Marathalli                    444\n",
       "Majestic                       411\n",
       "Delhi Cantt.                   397\n",
       " Maharashtra                   379\n",
       " Hyderabad                     371\n",
       "Pune University                344\n",
       " Delhi                         337\n",
       "Gurgaon                        323\n",
       " Mumbai                        133\n",
       " Begumpet                       93\n",
       " Electronic City                30\n",
       "Name: City, dtype: int64"
      ]
     },
     "execution_count": 22,
     "metadata": {},
     "output_type": "execute_result"
    }
   ],
   "source": [
    "data['City'].value_counts()"
   ]
  },
  {
   "cell_type": "code",
   "execution_count": 23,
   "metadata": {},
   "outputs": [],
   "source": [
    "data['City'][data['City']=='Delhi University-GTB Nagar']='Delhi'\n",
    "data['City'][data['City']=='Mumbai Central']='Mumbai'\n",
    "data['City'][data['City']=='Majestic']='Pune'\n",
    "data['City'][data['City']=='Delhi Cantt.']='Delhi'\n",
    "data['City'][data['City']=='Mumbai CST Area']='Mumbai'\n",
    "data['City'][data['City']=='Pune University']='Pune'\n",
    "data['City'][data['City']=='India Gate']='Delhi'\n",
    "data['City'][data['City']=='Electronic City']='Bangalore'\n",
    "data['City'][data['City']=='Gurgoan']='Gurgaon'\n",
    "data['City'][data['City']=='Marathalli']='Bangalore'\n",
    "data['City'][data['City']=='Whitefield']='Bangalore'\n",
    "data['City'][data['City']=='Timarpur']='Delhi'\n",
    "data['City'][data['City']=='Begumpet']='Hyderabad'\n",
    "data['City'][data['City']=='india gate']='Delhi'\n",
    "data['City'][data['City']=='whitefield']='Bangalore'\n",
    "\n",
    "\n",
    "data['City'] = data['City'].str.strip()\n",
    "data['City'] = data['City'].str.lower()\n",
    "del data['Location']"
   ]
  },
  {
   "cell_type": "code",
   "execution_count": 24,
   "metadata": {},
   "outputs": [],
   "source": [
    "data['Average_Cost'] = data['Average_Cost'].str.replace(\"[^0-9]\",\"\")\n",
    "data['Average_Cost'] = data['Average_Cost'].str.strip()\n",
    "data['Average_Cost']=pd.to_numeric(data['Average_Cost'])"
   ]
  },
  {
   "cell_type": "code",
   "execution_count": 25,
   "metadata": {},
   "outputs": [],
   "source": [
    "data['Minimum_Order'] = data['Minimum_Order'].str.replace(\"[^0-9]\",\"\")\n",
    "data['Minimum_Order'] = data['Minimum_Order'].str.strip()\n",
    "data['Minimum_Order']=pd.to_numeric(data['Minimum_Order'])"
   ]
  },
  {
   "cell_type": "code",
   "execution_count": 26,
   "metadata": {},
   "outputs": [],
   "source": [
    "data['Rating'] = data['Rating'].replace(\"NEW\",np.nan)\n",
    "data['Rating'] = data['Rating'].replace(\"-\",np.nan)\n",
    "data['Rating'] = data['Rating'].replace(\"Opening Soon\",np.nan)\n",
    "data['Rating'] = data['Rating'].replace(\"Temporarily Closed\",np.nan)\n",
    "data['Rating'] = data['Rating'].astype('float')"
   ]
  },
  {
   "cell_type": "code",
   "execution_count": 27,
   "metadata": {},
   "outputs": [],
   "source": [
    "data['Votes'] = data['Votes'].replace(\"-\",np.nan)"
   ]
  },
  {
   "cell_type": "code",
   "execution_count": 28,
   "metadata": {},
   "outputs": [],
   "source": [
    "data['Reviews'] = data['Reviews'].replace(\"-\",np.nan)"
   ]
  },
  {
   "cell_type": "code",
   "execution_count": 29,
   "metadata": {},
   "outputs": [],
   "source": [
    "#Columns with NaN values"
   ]
  },
  {
   "cell_type": "code",
   "execution_count": 30,
   "metadata": {},
   "outputs": [
    {
     "data": {
      "text/plain": [
       "['Average_Cost', 'Rating', 'Votes', 'Reviews', 'Delivery_Time']"
      ]
     },
     "execution_count": 30,
     "metadata": {},
     "output_type": "execute_result"
    }
   ],
   "source": [
    "data.columns[data.isnull().any()].tolist()"
   ]
  },
  {
   "cell_type": "code",
   "execution_count": 31,
   "metadata": {
    "scrolled": true
   },
   "outputs": [],
   "source": [
    "#Imputing average cost and rating with mean using simple imputer\n",
    "data['Average_Cost']=pd.to_numeric(data['Average_Cost'])\n",
    "data['Rating']=pd.to_numeric(data['Rating'])"
   ]
  },
  {
   "cell_type": "code",
   "execution_count": 32,
   "metadata": {},
   "outputs": [],
   "source": [
    "from sklearn.impute import SimpleImputer "
   ]
  },
  {
   "cell_type": "code",
   "execution_count": 33,
   "metadata": {},
   "outputs": [],
   "source": [
    "imputer = SimpleImputer(missing_values= np.nan,  \n",
    "                        strategy ='median') "
   ]
  },
  {
   "cell_type": "code",
   "execution_count": 34,
   "metadata": {},
   "outputs": [],
   "source": [
    "imputer =imputer.fit(data.loc[:,['Average_Cost','Rating']])"
   ]
  },
  {
   "cell_type": "code",
   "execution_count": 35,
   "metadata": {
    "scrolled": true
   },
   "outputs": [],
   "source": [
    "data1= imputer.transform(data.loc[:,['Average_Cost','Rating']]) "
   ]
  },
  {
   "cell_type": "code",
   "execution_count": 36,
   "metadata": {},
   "outputs": [],
   "source": [
    "data1=pd.DataFrame(data1,columns=['Average_Cost','Rating'])"
   ]
  },
  {
   "cell_type": "code",
   "execution_count": 37,
   "metadata": {},
   "outputs": [],
   "source": [
    "#Imputing Votes and Reviews with mode/most frequent using simple imputer"
   ]
  },
  {
   "cell_type": "code",
   "execution_count": 38,
   "metadata": {},
   "outputs": [],
   "source": [
    "imputer = SimpleImputer(missing_values= np.nan,  \n",
    "                        strategy ='most_frequent') "
   ]
  },
  {
   "cell_type": "code",
   "execution_count": 39,
   "metadata": {},
   "outputs": [],
   "source": [
    "imputer =imputer.fit(data.loc[:,['Votes','Reviews']])"
   ]
  },
  {
   "cell_type": "code",
   "execution_count": 40,
   "metadata": {
    "scrolled": true
   },
   "outputs": [],
   "source": [
    "data2= imputer.transform(data.loc[:,['Votes','Reviews']]) "
   ]
  },
  {
   "cell_type": "code",
   "execution_count": 41,
   "metadata": {},
   "outputs": [],
   "source": [
    "data2=pd.DataFrame(data2,columns=['Votes','Reviews'])"
   ]
  },
  {
   "cell_type": "code",
   "execution_count": 42,
   "metadata": {},
   "outputs": [],
   "source": [
    "# Dropping columns with NaN values from original dataframe"
   ]
  },
  {
   "cell_type": "code",
   "execution_count": 43,
   "metadata": {},
   "outputs": [],
   "source": [
    "data.drop(['Average_Cost','Rating','Votes','Reviews'],axis=1,inplace=True)"
   ]
  },
  {
   "cell_type": "code",
   "execution_count": 44,
   "metadata": {},
   "outputs": [],
   "source": [
    "#Concatenating original data with data1 and data2 with no NaN values"
   ]
  },
  {
   "cell_type": "code",
   "execution_count": 45,
   "metadata": {
    "scrolled": true
   },
   "outputs": [],
   "source": [
    "data=pd.concat([data,data1,data2],axis=1)"
   ]
  },
  {
   "cell_type": "markdown",
   "metadata": {},
   "source": [
    "## Visualization "
   ]
  },
  {
   "cell_type": "code",
   "execution_count": 46,
   "metadata": {},
   "outputs": [
    {
     "data": {
      "text/html": [
       "<div>\n",
       "<style scoped>\n",
       "    .dataframe tbody tr th:only-of-type {\n",
       "        vertical-align: middle;\n",
       "    }\n",
       "\n",
       "    .dataframe tbody tr th {\n",
       "        vertical-align: top;\n",
       "    }\n",
       "\n",
       "    .dataframe thead th {\n",
       "        text-align: right;\n",
       "    }\n",
       "</style>\n",
       "<table border=\"1\" class=\"dataframe\">\n",
       "  <thead>\n",
       "    <tr style=\"text-align: right;\">\n",
       "      <th></th>\n",
       "      <th>Restaurant</th>\n",
       "      <th>Cuisines</th>\n",
       "      <th>Minimum_Order</th>\n",
       "      <th>Delivery_Time</th>\n",
       "      <th>City</th>\n",
       "      <th>Locality</th>\n",
       "      <th>Average_Cost</th>\n",
       "      <th>Rating</th>\n",
       "      <th>Votes</th>\n",
       "      <th>Reviews</th>\n",
       "    </tr>\n",
       "  </thead>\n",
       "  <tbody>\n",
       "    <tr>\n",
       "      <td>0</td>\n",
       "      <td>6321</td>\n",
       "      <td>fastfood,fastfood,fastfood,healthyfood,fastfood</td>\n",
       "      <td>50</td>\n",
       "      <td>30.0</td>\n",
       "      <td>pune</td>\n",
       "      <td>fti college, law college road</td>\n",
       "      <td>200.0</td>\n",
       "      <td>3.5</td>\n",
       "      <td>12</td>\n",
       "      <td>4</td>\n",
       "    </tr>\n",
       "    <tr>\n",
       "      <td>1</td>\n",
       "      <td>2882</td>\n",
       "      <td>desserts,desserts</td>\n",
       "      <td>50</td>\n",
       "      <td>30.0</td>\n",
       "      <td>marathalli</td>\n",
       "      <td>sector 3</td>\n",
       "      <td>100.0</td>\n",
       "      <td>3.5</td>\n",
       "      <td>11</td>\n",
       "      <td>4</td>\n",
       "    </tr>\n",
       "    <tr>\n",
       "      <td>2</td>\n",
       "      <td>1595</td>\n",
       "      <td>european,fastfood,fastfood</td>\n",
       "      <td>50</td>\n",
       "      <td>65.0</td>\n",
       "      <td>mumbai</td>\n",
       "      <td>mumbai central</td>\n",
       "      <td>150.0</td>\n",
       "      <td>3.6</td>\n",
       "      <td>99</td>\n",
       "      <td>30</td>\n",
       "    </tr>\n",
       "    <tr>\n",
       "      <td>3</td>\n",
       "      <td>5929</td>\n",
       "      <td>mughlai,northindian,chinese</td>\n",
       "      <td>99</td>\n",
       "      <td>30.0</td>\n",
       "      <td>noida</td>\n",
       "      <td>sector 1</td>\n",
       "      <td>250.0</td>\n",
       "      <td>3.7</td>\n",
       "      <td>176</td>\n",
       "      <td>95</td>\n",
       "    </tr>\n",
       "    <tr>\n",
       "      <td>4</td>\n",
       "      <td>6123</td>\n",
       "      <td>fastfood,beverages</td>\n",
       "      <td>99</td>\n",
       "      <td>65.0</td>\n",
       "      <td>whitefield</td>\n",
       "      <td>rmz centennial, i gate</td>\n",
       "      <td>200.0</td>\n",
       "      <td>3.2</td>\n",
       "      <td>521</td>\n",
       "      <td>235</td>\n",
       "    </tr>\n",
       "  </tbody>\n",
       "</table>\n",
       "</div>"
      ],
      "text/plain": [
       "   Restaurant                                         Cuisines  Minimum_Order  \\\n",
       "0        6321  fastfood,fastfood,fastfood,healthyfood,fastfood             50   \n",
       "1        2882                                desserts,desserts             50   \n",
       "2        1595                       european,fastfood,fastfood             50   \n",
       "3        5929                      mughlai,northindian,chinese             99   \n",
       "4        6123                               fastfood,beverages             99   \n",
       "\n",
       "   Delivery_Time        City                       Locality  Average_Cost  \\\n",
       "0           30.0        pune  fti college, law college road         200.0   \n",
       "1           30.0  marathalli                       sector 3         100.0   \n",
       "2           65.0      mumbai                 mumbai central         150.0   \n",
       "3           30.0       noida                       sector 1         250.0   \n",
       "4           65.0  whitefield         rmz centennial, i gate         200.0   \n",
       "\n",
       "   Rating Votes Reviews  \n",
       "0     3.5    12       4  \n",
       "1     3.5    11       4  \n",
       "2     3.6    99      30  \n",
       "3     3.7   176      95  \n",
       "4     3.2   521     235  "
      ]
     },
     "execution_count": 46,
     "metadata": {},
     "output_type": "execute_result"
    }
   ],
   "source": [
    "data.head()"
   ]
  },
  {
   "cell_type": "code",
   "execution_count": 47,
   "metadata": {},
   "outputs": [
    {
     "data": {
      "image/png": "[encoded data removed]",
      "text/plain": [
       "<Figure size 576x360 with 1 Axes>"
      ]
     },
     "metadata": {
      "needs_background": "light"
     },
     "output_type": "display_data"
    }
   ],
   "source": [
    "data['Minimum_Order'].value_counts().plot(kind='bar',figsize=(8,5),grid=True,color='red')\n",
    "plt.xticks(rotation=90)\n",
    "plt.xlabel('Minimum_Order')\n",
    "plt.title('Bar plot for mimimum order')\n",
    "plt.show()"
   ]
  },
  {
   "cell_type": "code",
   "execution_count": 48,
   "metadata": {},
   "outputs": [],
   "source": [
    "# Minimum order of Rs50 is maximum in count."
   ]
  },
  {
   "cell_type": "code",
   "execution_count": 49,
   "metadata": {},
   "outputs": [
    {
     "data": {
      "image/png": "[encoded data removed]",
      "text/plain": [
       "<Figure size 576x360 with 1 Axes>"
      ]
     },
     "metadata": {
      "needs_background": "light"
     },
     "output_type": "display_data"
    }
   ],
   "source": [
    "data['Delivery_Time'].value_counts().plot(kind='bar',figsize=(8,5),grid=True,color='orange')\n",
    "plt.xlabel('Delivery Time')\n",
    "plt.title('Bar plot for food delivery time')\n",
    "plt.show()"
   ]
  },
  {
   "cell_type": "code",
   "execution_count": 50,
   "metadata": {},
   "outputs": [],
   "source": [
    "#Maximum food delivery time is 30."
   ]
  },
  {
   "cell_type": "code",
   "execution_count": 51,
   "metadata": {},
   "outputs": [
    {
     "data": {
      "image/png": "[encoded data removed]",
      "text/plain": [
       "<Figure size 576x360 with 1 Axes>"
      ]
     },
     "metadata": {
      "needs_background": "light"
     },
     "output_type": "display_data"
    }
   ],
   "source": [
    "data['Rating'].value_counts().plot(kind='bar',figsize=(8,5),grid=True,color='green')\n",
    "plt.xlabel('Rating')\n",
    "plt.title('Bar plot for Rating given by customers')\n",
    "plt.show()"
   ]
  },
  {
   "cell_type": "code",
   "execution_count": 52,
   "metadata": {},
   "outputs": [],
   "source": [
    "#Maximum rating given is 3.6"
   ]
  },
  {
   "cell_type": "code",
   "execution_count": 53,
   "metadata": {},
   "outputs": [
    {
     "data": {
      "image/png": "[encoded data removed]",
      "text/plain": [
       "<Figure size 432x288 with 1 Axes>"
      ]
     },
     "metadata": {
      "needs_background": "light"
     },
     "output_type": "display_data"
    }
   ],
   "source": [
    "sns.barplot(data['Minimum_Order'],data['Delivery_Time'])\n",
    "plt.xticks(rotation=90)\n",
    "plt.title(\"Delivery time for different minimum orders\")\n",
    "plt.show()"
   ]
  },
  {
   "cell_type": "code",
   "execution_count": 54,
   "metadata": {},
   "outputs": [],
   "source": [
    "# Delivery time of minimum order=500 is maximum"
   ]
  },
  {
   "cell_type": "code",
   "execution_count": 55,
   "metadata": {},
   "outputs": [
    {
     "data": {
      "image/png": "[encoded data removed]",
      "text/plain": [
       "<Figure size 576x360 with 1 Axes>"
      ]
     },
     "metadata": {
      "needs_background": "light"
     },
     "output_type": "display_data"
    }
   ],
   "source": [
    "plt.figure(figsize=(8,5))\n",
    "sns.barplot(data['Rating'],data['Delivery_Time'],color='violet')\n",
    "plt.xticks(rotation=90)\n",
    "plt.title(\"Delivery time for different Ratings given\")\n",
    "plt.show()"
   ]
  },
  {
   "cell_type": "code",
   "execution_count": 56,
   "metadata": {},
   "outputs": [
    {
     "data": {
      "text/plain": [
       "noida              2647\n",
       "pune               2474\n",
       "delhi              1433\n",
       "bangalore          1158\n",
       "mumbai cst area     825\n",
       "mumbai              711\n",
       "kolkata             678\n",
       "gurgoan             611\n",
       "timarpur            602\n",
       "whitefield          585\n",
       "india gate          504\n",
       "marathalli          444\n",
       "maharashtra         379\n",
       "hyderabad           371\n",
       "gurgaon             323\n",
       "begumpet             93\n",
       "electronic city      30\n",
       "Name: City, dtype: int64"
      ]
     },
     "execution_count": 56,
     "metadata": {},
     "output_type": "execute_result"
    }
   ],
   "source": [
    "data['City'].value_counts()"
   ]
  },
  {
   "cell_type": "code",
   "execution_count": 57,
   "metadata": {},
   "outputs": [
    {
     "data": {
      "image/png": "[encoded data removed]",
      "text/plain": [
       "<Figure size 432x288 with 1 Axes>"
      ]
     },
     "metadata": {
      "needs_background": "light"
     },
     "output_type": "display_data"
    }
   ],
   "source": [
    "sns.barplot(data['City'],data['Delivery_Time'],color='pink')\n",
    "plt.xticks(rotation=90)\n",
    "plt.title(\"Delivery time for different cities\")\n",
    "plt.show()"
   ]
  },
  {
   "cell_type": "code",
   "execution_count": 58,
   "metadata": {},
   "outputs": [],
   "source": [
    "#Maximum food delivery time is in Gurgaon and electronic city"
   ]
  },
  {
   "cell_type": "markdown",
   "metadata": {},
   "source": [
    "------------------------------------"
   ]
  },
  {
   "cell_type": "code",
   "execution_count": 59,
   "metadata": {},
   "outputs": [],
   "source": [
    "#Applying one hot encoding for city variable"
   ]
  },
  {
   "cell_type": "code",
   "execution_count": 60,
   "metadata": {},
   "outputs": [],
   "source": [
    "enc = OneHotEncoder(handle_unknown='ignore')"
   ]
  },
  {
   "cell_type": "code",
   "execution_count": 61,
   "metadata": {
    "scrolled": true
   },
   "outputs": [],
   "source": [
    "data3=pd.DataFrame(enc.fit_transform(data[['City']]).toarray())"
   ]
  },
  {
   "cell_type": "code",
   "execution_count": 62,
   "metadata": {},
   "outputs": [],
   "source": [
    "data=data.join(data3)"
   ]
  },
  {
   "cell_type": "code",
   "execution_count": 63,
   "metadata": {},
   "outputs": [],
   "source": [
    "# Applying CountVectorizer for cuisine variable"
   ]
  },
  {
   "cell_type": "code",
   "execution_count": 64,
   "metadata": {},
   "outputs": [],
   "source": [
    "vectorizer = CountVectorizer()\n",
    "v = vectorizer.fit_transform(data['Cuisines']).toarray()\n",
    "ft = vectorizer.get_feature_names()\n",
    "cuisines = pd.DataFrame(v, columns= ft)"
   ]
  },
  {
   "cell_type": "code",
   "execution_count": 65,
   "metadata": {},
   "outputs": [],
   "source": [
    "final_data=data.join(cuisines)"
   ]
  },
  {
   "cell_type": "code",
   "execution_count": 66,
   "metadata": {},
   "outputs": [],
   "source": [
    "#Dropping Locality as it is of no relevance to predict the target variable"
   ]
  },
  {
   "cell_type": "code",
   "execution_count": 67,
   "metadata": {},
   "outputs": [],
   "source": [
    "final_data.drop(['Cuisines','City','Locality'],axis=1,inplace=True)"
   ]
  },
  {
   "cell_type": "code",
   "execution_count": 68,
   "metadata": {},
   "outputs": [],
   "source": [
    "train=final_data[final_data['Delivery_Time'].notnull()]"
   ]
  },
  {
   "cell_type": "code",
   "execution_count": 69,
   "metadata": {},
   "outputs": [],
   "source": [
    "test=final_data[final_data['Delivery_Time'].isnull()]"
   ]
  },
  {
   "cell_type": "code",
   "execution_count": 70,
   "metadata": {},
   "outputs": [],
   "source": [
    "X=train.drop('Delivery_Time',axis=1)\n",
    "y=train[['Delivery_Time']]\n",
    "Xt=test.drop('Delivery_Time',axis=1)"
   ]
  },
  {
   "cell_type": "code",
   "execution_count": 71,
   "metadata": {},
   "outputs": [],
   "source": [
    "#Scaling features using Standard Scaler"
   ]
  },
  {
   "cell_type": "code",
   "execution_count": 72,
   "metadata": {},
   "outputs": [],
   "source": [
    "ss=StandardScaler()\n",
    "X_scaled=ss.fit_transform(X)\n",
    "X_scaled=pd.DataFrame(X_scaled,columns=X.columns)\n",
    "Xt_scaled=ss.transform(Xt)\n",
    "Xt_scaled=pd.DataFrame(Xt_scaled,columns=Xt.columns)"
   ]
  },
  {
   "cell_type": "markdown",
   "metadata": {},
   "source": [
    "### Model Building "
   ]
  },
  {
   "cell_type": "code",
   "execution_count": 73,
   "metadata": {},
   "outputs": [
    {
     "data": {
      "image/png": "[encoded data removed]",
      "text/plain": [
       "<Figure size 432x288 with 1 Axes>"
      ]
     },
     "metadata": {
      "needs_background": "light"
     },
     "output_type": "display_data"
    }
   ],
   "source": [
    "sns.countplot(final_data['Delivery_Time'])\n",
    "plt.show()"
   ]
  },
  {
   "cell_type": "code",
   "execution_count": 74,
   "metadata": {},
   "outputs": [],
   "source": [
    "# Clearly there is a high imbalance\n",
    "# Taking Random Forest Classifier as a base model with F1-micro as a metric"
   ]
  },
  {
   "cell_type": "code",
   "execution_count": 75,
   "metadata": {},
   "outputs": [],
   "source": [
    "#Train and Validation datasets"
   ]
  },
  {
   "cell_type": "code",
   "execution_count": 76,
   "metadata": {},
   "outputs": [],
   "source": [
    "import random"
   ]
  },
  {
   "cell_type": "code",
   "execution_count": 77,
   "metadata": {},
   "outputs": [],
   "source": [
    "random.seed(1)"
   ]
  },
  {
   "cell_type": "code",
   "execution_count": 78,
   "metadata": {},
   "outputs": [
    {
     "data": {
      "application/javascript": [
       "\n",
       "        if (window._pyforest_update_imports_cell) { window._pyforest_update_imports_cell('from sklearn.model_selection import train_test_split'); }\n",
       "    "
      ],
      "text/plain": [
       "<IPython.core.display.Javascript object>"
      ]
     },
     "metadata": {},
     "output_type": "display_data"
    }
   ],
   "source": [
    "X_train,X_valid,y_train,y_valid=train_test_split(X_scaled,y,test_size=0.3,random_state=0)"
   ]
  },
  {
   "cell_type": "code",
   "execution_count": 79,
   "metadata": {
    "scrolled": true
   },
   "outputs": [],
   "source": [
    "rf=RandomForestClassifier(n_estimators=100)"
   ]
  },
  {
   "cell_type": "code",
   "execution_count": 80,
   "metadata": {
    "scrolled": true
   },
   "outputs": [],
   "source": [
    "model=rf.fit(X_train,y_train)"
   ]
  },
  {
   "cell_type": "code",
   "execution_count": 81,
   "metadata": {},
   "outputs": [],
   "source": [
    "y_pred=rf.predict(X_valid)"
   ]
  },
  {
   "cell_type": "code",
   "execution_count": 82,
   "metadata": {},
   "outputs": [
    {
     "data": {
      "text/plain": [
       "0.78552117753079"
      ]
     },
     "execution_count": 82,
     "metadata": {},
     "output_type": "execute_result"
    }
   ],
   "source": [
    "f1_score(y_valid,y_pred,average='micro')"
   ]
  },
  {
   "cell_type": "code",
   "execution_count": 83,
   "metadata": {},
   "outputs": [],
   "source": [
    "# Customised grid search cv"
   ]
  },
  {
   "cell_type": "code",
   "execution_count": 84,
   "metadata": {
    "colab": {},
    "colab_type": "code",
    "id": "FMGZ11joScsF"
   },
   "outputs": [],
   "source": [
    "f1_avg=[]\n",
    "f1_var=[]\n",
    "estimator=[]\n",
    "for i in np.arange(1,50):\n",
    "    for j in ['gini','entropy']:\n",
    "        model=RandomForestClassifier(criterion=j,n_estimators=i,random_state=0)\n",
    "        kfold = model_selection.KFold(shuffle=True,n_splits=3,random_state=0)\n",
    "        f1 = model_selection.cross_val_score(model, X_train,y_train,cv=kfold,scoring='f1_micro')\n",
    "        f1_avg.append(1-np.mean(f1))\n",
    "        f1_var.append(np.var(f1,ddof=1))\n",
    "        estimator.append([i,j])"
   ]
  },
  {
   "cell_type": "code",
   "execution_count": 85,
   "metadata": {},
   "outputs": [
    {
     "name": "stdout",
     "output_type": "stream",
     "text": [
      "    bias_error  variance_error    n_estimator\n",
      "37      0.2349        0.000004  [19, entropy]\n",
      "    bias_error  variance_error    n_estimator\n",
      "81    0.225628         0.00003  [41, entropy]\n"
     ]
    }
   ],
   "source": [
    "score=pd.DataFrame({'bias_error':f1_avg,'variance_error':f1_var,'n_estimator':estimator})\n",
    "print(score[score['variance_error']==score['variance_error'].min()])\n",
    "print(score[score['bias_error']==score['bias_error'].min()])"
   ]
  },
  {
   "cell_type": "code",
   "execution_count": 86,
   "metadata": {},
   "outputs": [
    {
     "data": {
      "text/plain": [
       "[0.77334]"
      ]
     },
     "execution_count": 86,
     "metadata": {},
     "output_type": "execute_result"
    }
   ],
   "source": [
    "f1_score=[]\n",
    "model=RandomForestClassifier(criterion='entropy',n_estimators=26)\n",
    "kfold = model_selection.KFold(shuffle=True,n_splits=3,random_state=0)\n",
    "f1 = model_selection.cross_val_score(model,X_train,y_train,cv=kfold,n_jobs=-1,scoring='f1_micro')\n",
    "f1_score.append(round(f1.mean(),5))\n",
    "f1_score"
   ]
  },
  {
   "cell_type": "code",
   "execution_count": 87,
   "metadata": {},
   "outputs": [],
   "source": [
    "#Boosted Random Forest to reduce bias error"
   ]
  },
  {
   "cell_type": "code",
   "execution_count": 88,
   "metadata": {},
   "outputs": [],
   "source": [
    "RF=RandomForestClassifier(criterion='entropy',n_estimators=26)"
   ]
  },
  {
   "cell_type": "code",
   "execution_count": 89,
   "metadata": {
    "colab": {},
    "colab_type": "code",
    "id": "qy0B0Mf-aU8Q"
   },
   "outputs": [],
   "source": [
    "f1_avg=[]\n",
    "f1_var=[]\n",
    "estimator=[]\n",
    "for i in np.arange(1,50):\n",
    "    model=AdaBoostClassifier(base_estimator=RF,n_estimators=i,random_state=0)\n",
    "    kfold = model_selection.KFold(shuffle=True,n_splits=3,random_state=0)\n",
    "    f1 = model_selection.cross_val_score(model, X_train,y_train,cv=kfold,scoring='f1_micro')\n",
    "    f1_avg.append(1-np.mean(f1))\n",
    "    f1_var.append(np.var(f1,ddof=1))\n",
    "    estimator.append(i)"
   ]
  },
  {
   "cell_type": "code",
   "execution_count": 90,
   "metadata": {},
   "outputs": [
    {
     "name": "stdout",
     "output_type": "stream",
     "text": [
      "   bias_error  variance_error  n_estimator\n",
      "2     0.22859        0.000002            3\n",
      "    bias_error  variance_error  n_estimator\n",
      "12    0.224855         0.00003           13\n"
     ]
    }
   ],
   "source": [
    "score=pd.DataFrame({'bias_error':f1_avg,'variance_error':f1_var,'n_estimator':estimator})\n",
    "print(score[score['variance_error']==score['variance_error'].min()])\n",
    "print(score[score['bias_error']==score['bias_error'].min()])"
   ]
  },
  {
   "cell_type": "code",
   "execution_count": 91,
   "metadata": {},
   "outputs": [
    {
     "data": {
      "text/plain": [
       "[0.77463]"
      ]
     },
     "execution_count": 91,
     "metadata": {},
     "output_type": "execute_result"
    }
   ],
   "source": [
    "f1_score=[]\n",
    "model=AdaBoostClassifier(base_estimator=RF,n_estimators=11,random_state=0)\n",
    "kfold = model_selection.KFold(shuffle=True,n_splits=3,random_state=0)\n",
    "f1 = model_selection.cross_val_score(model,X_train,y_train,cv=kfold,n_jobs=-1,scoring='f1_micro')\n",
    "f1_score.append(round(f1.mean(),5))\n",
    "f1_score"
   ]
  },
  {
   "cell_type": "markdown",
   "metadata": {},
   "source": [
    "Final score on validation dataset: 0.77463"
   ]
  },
  {
   "cell_type": "markdown",
   "metadata": {},
   "source": [
    "------------------------------------------------------------------"
   ]
  },
  {
   "cell_type": "code",
   "execution_count": 92,
   "metadata": {},
   "outputs": [],
   "source": [
    "#Final check on testing dataset"
   ]
  },
  {
   "cell_type": "code",
   "execution_count": 93,
   "metadata": {},
   "outputs": [],
   "source": [
    "RF=RandomForestClassifier(criterion='entropy',n_estimators=12)"
   ]
  },
  {
   "cell_type": "code",
   "execution_count": 94,
   "metadata": {},
   "outputs": [],
   "source": [
    "model=AdaBoostClassifier(base_estimator=RF,n_estimators=41,random_state=0)"
   ]
  },
  {
   "cell_type": "code",
   "execution_count": 95,
   "metadata": {},
   "outputs": [
    {
     "data": {
      "text/plain": [
       "AdaBoostClassifier(algorithm='SAMME.R',\n",
       "                   base_estimator=RandomForestClassifier(bootstrap=True,\n",
       "                                                         ccp_alpha=0.0,\n",
       "                                                         class_weight=None,\n",
       "                                                         criterion='entropy',\n",
       "                                                         max_depth=None,\n",
       "                                                         max_features='auto',\n",
       "                                                         max_leaf_nodes=None,\n",
       "                                                         max_samples=None,\n",
       "                                                         min_impurity_decrease=0.0,\n",
       "                                                         min_impurity_split=None,\n",
       "                                                         min_samples_leaf=1,\n",
       "                                                         min_samples_split=2,\n",
       "                                                         min_weight_fraction_leaf=0.0,\n",
       "                                                         n_estimators=12,\n",
       "                                                         n_jobs=None,\n",
       "                                                         oob_score=False,\n",
       "                                                         random_state=None,\n",
       "                                                         verbose=0,\n",
       "                                                         warm_start=False),\n",
       "                   learning_rate=1.0, n_estimators=41, random_state=0)"
      ]
     },
     "execution_count": 95,
     "metadata": {},
     "output_type": "execute_result"
    }
   ],
   "source": [
    "model.fit(X_scaled,y)"
   ]
  },
  {
   "cell_type": "code",
   "execution_count": 96,
   "metadata": {},
   "outputs": [],
   "source": [
    "y_pred=model.predict(Xt_scaled)"
   ]
  },
  {
   "cell_type": "code",
   "execution_count": 97,
   "metadata": {},
   "outputs": [
    {
     "data": {
      "text/plain": [
       "array([30., 30., 30., ..., 45., 45., 65.])"
      ]
     },
     "execution_count": 97,
     "metadata": {},
     "output_type": "execute_result"
    }
   ],
   "source": [
    "y_pred"
   ]
  },
  {
   "cell_type": "code",
   "execution_count": 98,
   "metadata": {},
   "outputs": [],
   "source": [
    "y1=y_pred.astype(int)"
   ]
  },
  {
   "cell_type": "code",
   "execution_count": 99,
   "metadata": {},
   "outputs": [],
   "source": [
    "y1=y1.astype(str) \n",
    "for i in range(len(y1)):\n",
    "    y1[i] = y1[i]+\" minutes\""
   ]
  },
  {
   "cell_type": "code",
   "execution_count": 100,
   "metadata": {},
   "outputs": [],
   "source": [
    "df = pd.DataFrame (y1,columns=['Delivery_Time'])\n",
    "df.to_excel(\"Submission2.xlsx\",index = False)"
   ]
  },
  {
   "cell_type": "markdown",
   "metadata": {},
   "source": [
    "Final score on test dataset: 0.79524"
   ]
  },
  {
   "cell_type": "markdown",
   "metadata": {},
   "source": [
    "-------------------------------------------"
   ]
  }
 ],
 "metadata": {
  "kernelspec": {
   "display_name": "Python 3",
   "language": "python",
   "name": "python3"
  },
  "language_info": {
   "codemirror_mode": {
    "name": "ipython",
    "version": 3
   },
   "file_extension": ".py",
   "mimetype": "text/x-python",
   "name": "python",
   "nbconvert_exporter": "python",
   "pygments_lexer": "ipython3",
   "version": "3.7.4"
  }
 },
 "nbformat": 4,
 "nbformat_minor": 2
}
